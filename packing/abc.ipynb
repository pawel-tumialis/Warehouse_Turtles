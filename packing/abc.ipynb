{
 "cells": [
  {
   "cell_type": "code",
   "execution_count": 1,
   "metadata": {},
   "outputs": [],
   "source": [
    "import pandas as pd"
   ]
  },
  {
   "cell_type": "code",
   "execution_count": 2,
   "metadata": {},
   "outputs": [
    {
     "name": "stdout",
     "output_type": "stream",
     "text": [
      "12\n",
      "14\n",
      "19\n",
      "6\n",
      "7\n",
      "1\n",
      "5\n",
      "12\n",
      "3\n",
      "14\n",
      "2\n",
      "7\n",
      "7\n",
      "2\n",
      "11\n",
      "8\n",
      "9\n",
      "20\n",
      "19\n",
      "14\n"
     ]
    }
   ],
   "source": [
    "data = pd.read_csv(\"C:\\\\dev\\\\hest_hackaton\\\\Pakowanie.csv\")\n",
    "for index, row in data.iterrows():\n",
    "    it = row['Ilość']\n",
    "    sizes = row[\"Wymiary (mm)\"]\n",
    "    Z_axis = sizes.split(\"x\")[2]\n",
    "    Y_axis = sizes.split(\"x\")[1]\n",
    "    X_axis = sizes.split(\"x\")[0]\n",
    "    for _ in range(it):\n"
   ]
  },
  {
   "cell_type": "code",
   "execution_count": null,
   "metadata": {},
   "outputs": [],
   "source": []
  }
 ],
 "metadata": {
  "kernelspec": {
   "display_name": "best_hackaton",
   "language": "python",
   "name": "python3"
  },
  "language_info": {
   "codemirror_mode": {
    "name": "ipython",
    "version": 3
   },
   "file_extension": ".py",
   "mimetype": "text/x-python",
   "name": "python",
   "nbconvert_exporter": "python",
   "pygments_lexer": "ipython3",
   "version": "3.10.10"
  }
 },
 "nbformat": 4,
 "nbformat_minor": 2
}
